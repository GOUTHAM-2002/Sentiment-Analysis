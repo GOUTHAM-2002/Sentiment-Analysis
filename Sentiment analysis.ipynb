{
 "cells": [
  {
   "cell_type": "code",
   "execution_count": 3,
   "id": "aa3968fd",
   "metadata": {},
   "outputs": [],
   "source": [
    "import pandas as pd\n",
    "import numpy as np\n",
    "import matplotlib.pyplot as plt\n",
    "import seaborn as sns\n",
    "import nltk"
   ]
  },
  {
   "cell_type": "code",
   "execution_count": 4,
   "id": "b25535d6",
   "metadata": {},
   "outputs": [],
   "source": [
    "plt.style.use('ggplot')"
   ]
  },
  {
   "cell_type": "code",
   "execution_count": 6,
   "id": "5ec161e1",
   "metadata": {},
   "outputs": [],
   "source": [
    "df = pd.read_csv('Reviews.csv')"
   ]
  },
  {
   "cell_type": "code",
   "execution_count": 7,
   "id": "06ce7c09",
   "metadata": {
    "scrolled": true
   },
   "outputs": [
    {
     "data": {
      "text/html": [
       "<div>\n",
       "<style scoped>\n",
       "    .dataframe tbody tr th:only-of-type {\n",
       "        vertical-align: middle;\n",
       "    }\n",
       "\n",
       "    .dataframe tbody tr th {\n",
       "        vertical-align: top;\n",
       "    }\n",
       "\n",
       "    .dataframe thead th {\n",
       "        text-align: right;\n",
       "    }\n",
       "</style>\n",
       "<table border=\"1\" class=\"dataframe\">\n",
       "  <thead>\n",
       "    <tr style=\"text-align: right;\">\n",
       "      <th></th>\n",
       "      <th>Id</th>\n",
       "      <th>ProductId</th>\n",
       "      <th>UserId</th>\n",
       "      <th>ProfileName</th>\n",
       "      <th>HelpfulnessNumerator</th>\n",
       "      <th>HelpfulnessDenominator</th>\n",
       "      <th>Score</th>\n",
       "      <th>Time</th>\n",
       "      <th>Summary</th>\n",
       "      <th>Text</th>\n",
       "    </tr>\n",
       "  </thead>\n",
       "  <tbody>\n",
       "    <tr>\n",
       "      <th>0</th>\n",
       "      <td>1</td>\n",
       "      <td>B001E4KFG0</td>\n",
       "      <td>A3SGXH7AUHU8GW</td>\n",
       "      <td>delmartian</td>\n",
       "      <td>1</td>\n",
       "      <td>1</td>\n",
       "      <td>5</td>\n",
       "      <td>1303862400</td>\n",
       "      <td>Good Quality Dog Food</td>\n",
       "      <td>I have bought several of the Vitality canned d...</td>\n",
       "    </tr>\n",
       "    <tr>\n",
       "      <th>1</th>\n",
       "      <td>2</td>\n",
       "      <td>B00813GRG4</td>\n",
       "      <td>A1D87F6ZCVE5NK</td>\n",
       "      <td>dll pa</td>\n",
       "      <td>0</td>\n",
       "      <td>0</td>\n",
       "      <td>1</td>\n",
       "      <td>1346976000</td>\n",
       "      <td>Not as Advertised</td>\n",
       "      <td>Product arrived labeled as Jumbo Salted Peanut...</td>\n",
       "    </tr>\n",
       "    <tr>\n",
       "      <th>2</th>\n",
       "      <td>3</td>\n",
       "      <td>B000LQOCH0</td>\n",
       "      <td>ABXLMWJIXXAIN</td>\n",
       "      <td>Natalia Corres \"Natalia Corres\"</td>\n",
       "      <td>1</td>\n",
       "      <td>1</td>\n",
       "      <td>4</td>\n",
       "      <td>1219017600</td>\n",
       "      <td>\"Delight\" says it all</td>\n",
       "      <td>This is a confection that has been around a fe...</td>\n",
       "    </tr>\n",
       "    <tr>\n",
       "      <th>3</th>\n",
       "      <td>4</td>\n",
       "      <td>B000UA0QIQ</td>\n",
       "      <td>A395BORC6FGVXV</td>\n",
       "      <td>Karl</td>\n",
       "      <td>3</td>\n",
       "      <td>3</td>\n",
       "      <td>2</td>\n",
       "      <td>1307923200</td>\n",
       "      <td>Cough Medicine</td>\n",
       "      <td>If you are looking for the secret ingredient i...</td>\n",
       "    </tr>\n",
       "    <tr>\n",
       "      <th>4</th>\n",
       "      <td>5</td>\n",
       "      <td>B006K2ZZ7K</td>\n",
       "      <td>A1UQRSCLF8GW1T</td>\n",
       "      <td>Michael D. Bigham \"M. Wassir\"</td>\n",
       "      <td>0</td>\n",
       "      <td>0</td>\n",
       "      <td>5</td>\n",
       "      <td>1350777600</td>\n",
       "      <td>Great taffy</td>\n",
       "      <td>Great taffy at a great price.  There was a wid...</td>\n",
       "    </tr>\n",
       "  </tbody>\n",
       "</table>\n",
       "</div>"
      ],
      "text/plain": [
       "   Id   ProductId          UserId                      ProfileName  \\\n",
       "0   1  B001E4KFG0  A3SGXH7AUHU8GW                       delmartian   \n",
       "1   2  B00813GRG4  A1D87F6ZCVE5NK                           dll pa   \n",
       "2   3  B000LQOCH0   ABXLMWJIXXAIN  Natalia Corres \"Natalia Corres\"   \n",
       "3   4  B000UA0QIQ  A395BORC6FGVXV                             Karl   \n",
       "4   5  B006K2ZZ7K  A1UQRSCLF8GW1T    Michael D. Bigham \"M. Wassir\"   \n",
       "\n",
       "   HelpfulnessNumerator  HelpfulnessDenominator  Score        Time  \\\n",
       "0                     1                       1      5  1303862400   \n",
       "1                     0                       0      1  1346976000   \n",
       "2                     1                       1      4  1219017600   \n",
       "3                     3                       3      2  1307923200   \n",
       "4                     0                       0      5  1350777600   \n",
       "\n",
       "                 Summary                                               Text  \n",
       "0  Good Quality Dog Food  I have bought several of the Vitality canned d...  \n",
       "1      Not as Advertised  Product arrived labeled as Jumbo Salted Peanut...  \n",
       "2  \"Delight\" says it all  This is a confection that has been around a fe...  \n",
       "3         Cough Medicine  If you are looking for the secret ingredient i...  \n",
       "4            Great taffy  Great taffy at a great price.  There was a wid...  "
      ]
     },
     "execution_count": 7,
     "metadata": {},
     "output_type": "execute_result"
    }
   ],
   "source": [
    "df.head()"
   ]
  },
  {
   "cell_type": "code",
   "execution_count": 11,
   "id": "22936a56",
   "metadata": {},
   "outputs": [],
   "source": [
    "df = df.head(2000)"
   ]
  },
  {
   "cell_type": "code",
   "execution_count": 13,
   "id": "07004fb5",
   "metadata": {},
   "outputs": [
    {
     "data": {
      "text/plain": [
       "(2000, 10)"
      ]
     },
     "execution_count": 13,
     "metadata": {},
     "output_type": "execute_result"
    }
   ],
   "source": [
    "df.shape"
   ]
  },
  {
   "cell_type": "code",
   "execution_count": null,
   "id": "a62130e1",
   "metadata": {},
   "outputs": [],
   "source": []
  },
  {
   "cell_type": "markdown",
   "id": "98c39f43",
   "metadata": {},
   "source": [
    "Quick EDA"
   ]
  },
  {
   "cell_type": "code",
   "execution_count": 14,
   "id": "fa2b3769",
   "metadata": {},
   "outputs": [
    {
     "data": {
      "text/plain": [
       "0       5\n",
       "1       1\n",
       "2       4\n",
       "3       2\n",
       "4       5\n",
       "       ..\n",
       "1995    5\n",
       "1996    5\n",
       "1997    4\n",
       "1998    4\n",
       "1999    5\n",
       "Name: Score, Length: 2000, dtype: int64"
      ]
     },
     "execution_count": 14,
     "metadata": {},
     "output_type": "execute_result"
    }
   ],
   "source": [
    "df['Score']"
   ]
  },
  {
   "cell_type": "code",
   "execution_count": 16,
   "id": "9e837103",
   "metadata": {},
   "outputs": [
    {
     "data": {
      "image/png": "[encoded data removed]",
      "text/plain": [
       "<Figure size 1000x500 with 1 Axes>"
      ]
     },
     "metadata": {},
     "output_type": "display_data"
    }
   ],
   "source": [
    "ax = df['Score'].value_counts().sort_index().plot(kind='bar',title='COunt of review by stars',figsize=(10,5))"
   ]
  },
  {
   "cell_type": "markdown",
   "id": "b741ad0b",
   "metadata": {},
   "source": [
    "Positive towards positive side\n"
   ]
  },
  {
   "cell_type": "code",
   "execution_count": 18,
   "id": "9fd7178e",
   "metadata": {},
   "outputs": [
    {
     "data": {
      "text/plain": [
       "\"This oatmeal is not good. Its mushy, soft, I don't like it. Quaker Oats is the way to go.\""
      ]
     },
     "execution_count": 18,
     "metadata": {},
     "output_type": "execute_result"
    }
   ],
   "source": [
    "example = df['Text'][50]"
   ]
  },
  {
   "cell_type": "markdown",
   "id": "74f41e35",
   "metadata": {},
   "source": [
    "Stuff nltk can do"
   ]
  },
  {
   "cell_type": "code",
   "execution_count": 20,
   "id": "4e8cd17f",
   "metadata": {},
   "outputs": [],
   "source": [
    "tokens = nltk.word_tokenize(example\n",
    "                  )"
   ]
  },
  {
   "cell_type": "code",
   "execution_count": 21,
   "id": "13cc64de",
   "metadata": {},
   "outputs": [
    {
     "name": "stdout",
     "output_type": "stream",
     "text": [
      "['This', 'oatmeal', 'is', 'not', 'good', '.', 'Its', 'mushy', ',', 'soft', ',', 'I', 'do', \"n't\", 'like', 'it', '.', 'Quaker', 'Oats', 'is', 'the', 'way', 'to', 'go', '.']\n"
     ]
    }
   ],
   "source": [
    "print(tokens)"
   ]
  },
  {
   "cell_type": "code",
   "execution_count": 24,
   "id": "1fc7c3b1",
   "metadata": {},
   "outputs": [
    {
     "data": {
      "text/plain": [
       "[('This', 'DT'),\n",
       " ('oatmeal', 'NN'),\n",
       " ('is', 'VBZ'),\n",
       " ('not', 'RB'),\n",
       " ('good', 'JJ'),\n",
       " ('.', '.'),\n",
       " ('Its', 'PRP$'),\n",
       " ('mushy', 'NN'),\n",
       " (',', ','),\n",
       " ('soft', 'JJ'),\n",
       " (',', ','),\n",
       " ('I', 'PRP'),\n",
       " ('do', 'VBP'),\n",
       " (\"n't\", 'RB'),\n",
       " ('like', 'VB'),\n",
       " ('it', 'PRP'),\n",
       " ('.', '.'),\n",
       " ('Quaker', 'NNP'),\n",
       " ('Oats', 'NNPS'),\n",
       " ('is', 'VBZ'),\n",
       " ('the', 'DT'),\n",
       " ('way', 'NN'),\n",
       " ('to', 'TO'),\n",
       " ('go', 'VB'),\n",
       " ('.', '.')]"
      ]
     },
     "execution_count": 24,
     "metadata": {},
     "output_type": "execute_result"
    }
   ],
   "source": [
    "tagged = nltk.pos_tag(tokens)\n",
    "tagged #pos means part of speech"
   ]
  },
  {
   "cell_type": "code",
   "execution_count": 27,
   "id": "8f20c3e6",
   "metadata": {},
   "outputs": [],
   "source": [
    "entities = nltk.chunk.ne_chunk(tagged) #grouping tokens"
   ]
  },
  {
   "cell_type": "code",
   "execution_count": 28,
   "id": "69fd0e18",
   "metadata": {},
   "outputs": [
    {
     "name": "stdout",
     "output_type": "stream",
     "text": [
      "(S\n",
      "  This/DT\n",
      "  oatmeal/NN\n",
      "  is/VBZ\n",
      "  not/RB\n",
      "  good/JJ\n",
      "  ./.\n",
      "  Its/PRP$\n",
      "  mushy/NN\n",
      "  ,/,\n",
      "  soft/JJ\n",
      "  ,/,\n",
      "  I/PRP\n",
      "  do/VBP\n",
      "  n't/RB\n",
      "  like/VB\n",
      "  it/PRP\n",
      "  ./.\n",
      "  (ORGANIZATION Quaker/NNP Oats/NNPS)\n",
      "  is/VBZ\n",
      "  the/DT\n",
      "  way/NN\n",
      "  to/TO\n",
      "  go/VB\n",
      "  ./.)\n"
     ]
    }
   ],
   "source": [
    "entities.pprint()"
   ]
  },
  {
   "cell_type": "markdown",
   "id": "09df266d",
   "metadata": {},
   "source": [
    "VADER"
   ]
  },
  {
   "cell_type": "code",
   "execution_count": 29,
   "id": "d2f1ca9e",
   "metadata": {},
   "outputs": [],
   "source": [
    "#Vader takes a rule based approach for setniment analysis"
   ]
  },
  {
   "cell_type": "code",
   "execution_count": 31,
   "id": "579e7cf4",
   "metadata": {},
   "outputs": [],
   "source": [
    "from nltk.sentiment import SentimentIntensityAnalyzer"
   ]
  },
  {
   "cell_type": "code",
   "execution_count": 34,
   "id": "b4785f34",
   "metadata": {},
   "outputs": [],
   "source": [
    " from tqdm.notebook import tqdm #used for genrating progress bar indicators"
   ]
  },
  {
   "cell_type": "code",
   "execution_count": 35,
   "id": "5ed0d33e",
   "metadata": {},
   "outputs": [],
   "source": [
    "sia = SentimentIntensityAnalyzer()"
   ]
  },
  {
   "cell_type": "code",
   "execution_count": 36,
   "id": "9a77280e",
   "metadata": {},
   "outputs": [
    {
     "data": {
      "application/vnd.jupyter.widget-view+json": {
       "model_id": "74d61942abe24d24bcaa2058b5ed845c",
       "version_major": 2,
       "version_minor": 0
      },
      "text/plain": [
       "  0%|          | 0/100 [00:00<?, ?it/s]"
      ]
     },
     "metadata": {},
     "output_type": "display_data"
    }
   ],
   "source": [
    "\n",
    "import time\n",
    "\n",
    "for i in tqdm(range(100)):\n",
    "    time.sleep(0.1)  # Simulate work"
   ]
  },
  {
   "cell_type": "code",
   "execution_count": 50,
   "id": "527dfcc1",
   "metadata": {},
   "outputs": [
    {
     "data": {
      "text/plain": [
       "{'neg': 0.388, 'neu': 0.125, 'pos': 0.487, 'compound': 0.2023}"
      ]
     },
     "execution_count": 50,
     "metadata": {},
     "output_type": "execute_result"
    }
   ],
   "source": [
    "sia.polarity_scores('I am super sad ')"
   ]
  },
  {
   "cell_type": "code",
   "execution_count": 51,
   "id": "8764208d",
   "metadata": {},
   "outputs": [
    {
     "data": {
      "text/plain": [
       "{'neg': 0.22, 'neu': 0.78, 'pos': 0.0, 'compound': -0.5448}"
      ]
     },
     "execution_count": 51,
     "metadata": {},
     "output_type": "execute_result"
    }
   ],
   "source": [
    "sia.polarity_scores(example)"
   ]
  },
  {
   "cell_type": "markdown",
   "id": "0a06490c",
   "metadata": {},
   "source": [
    "Running the polarity score on the entire dataset"
   ]
  },
  {
   "cell_type": "code",
   "execution_count": 53,
   "id": "6e0925d7",
   "metadata": {},
   "outputs": [
    {
     "data": {
      "application/vnd.jupyter.widget-view+json": {
       "model_id": "3b5dce86b62a4f7eaab2c8b94516c836",
       "version_major": 2,
       "version_minor": 0
      },
      "text/plain": [
       "  0%|          | 0/2000 [00:00<?, ?it/s]"
      ]
     },
     "metadata": {},
     "output_type": "display_data"
    }
   ],
   "source": [
    "res = {}\n",
    "for i,row in tqdm(df.iterrows(),total=len(df)):\n",
    "    text = row['Text']\n",
    "    myid = row['Id']\n",
    "    res[myid] = sia.polarity_scores(text)\n",
    "    "
   ]
  },
  {
   "cell_type": "code",
   "execution_count": 68,
   "id": "b9993112",
   "metadata": {},
   "outputs": [
    {
     "data": {
      "text/html": [
       "<div>\n",
       "<style scoped>\n",
       "    .dataframe tbody tr th:only-of-type {\n",
       "        vertical-align: middle;\n",
       "    }\n",
       "\n",
       "    .dataframe tbody tr th {\n",
       "        vertical-align: top;\n",
       "    }\n",
       "\n",
       "    .dataframe thead th {\n",
       "        text-align: right;\n",
       "    }\n",
       "</style>\n",
       "<table border=\"1\" class=\"dataframe\">\n",
       "  <thead>\n",
       "    <tr style=\"text-align: right;\">\n",
       "      <th></th>\n",
       "      <th>neg</th>\n",
       "      <th>neu</th>\n",
       "      <th>pos</th>\n",
       "      <th>compound</th>\n",
       "    </tr>\n",
       "  </thead>\n",
       "  <tbody>\n",
       "    <tr>\n",
       "      <th>1</th>\n",
       "      <td>0.000</td>\n",
       "      <td>0.695</td>\n",
       "      <td>0.305</td>\n",
       "      <td>0.9441</td>\n",
       "    </tr>\n",
       "    <tr>\n",
       "      <th>2</th>\n",
       "      <td>0.138</td>\n",
       "      <td>0.862</td>\n",
       "      <td>0.000</td>\n",
       "      <td>-0.5664</td>\n",
       "    </tr>\n",
       "    <tr>\n",
       "      <th>3</th>\n",
       "      <td>0.091</td>\n",
       "      <td>0.754</td>\n",
       "      <td>0.155</td>\n",
       "      <td>0.8265</td>\n",
       "    </tr>\n",
       "    <tr>\n",
       "      <th>4</th>\n",
       "      <td>0.000</td>\n",
       "      <td>1.000</td>\n",
       "      <td>0.000</td>\n",
       "      <td>0.0000</td>\n",
       "    </tr>\n",
       "    <tr>\n",
       "      <th>5</th>\n",
       "      <td>0.000</td>\n",
       "      <td>0.552</td>\n",
       "      <td>0.448</td>\n",
       "      <td>0.9468</td>\n",
       "    </tr>\n",
       "    <tr>\n",
       "      <th>...</th>\n",
       "      <td>...</td>\n",
       "      <td>...</td>\n",
       "      <td>...</td>\n",
       "      <td>...</td>\n",
       "    </tr>\n",
       "    <tr>\n",
       "      <th>1996</th>\n",
       "      <td>0.000</td>\n",
       "      <td>0.754</td>\n",
       "      <td>0.246</td>\n",
       "      <td>0.9744</td>\n",
       "    </tr>\n",
       "    <tr>\n",
       "      <th>1997</th>\n",
       "      <td>0.025</td>\n",
       "      <td>0.744</td>\n",
       "      <td>0.231</td>\n",
       "      <td>0.9978</td>\n",
       "    </tr>\n",
       "    <tr>\n",
       "      <th>1998</th>\n",
       "      <td>0.000</td>\n",
       "      <td>0.719</td>\n",
       "      <td>0.281</td>\n",
       "      <td>0.9501</td>\n",
       "    </tr>\n",
       "    <tr>\n",
       "      <th>1999</th>\n",
       "      <td>0.053</td>\n",
       "      <td>0.839</td>\n",
       "      <td>0.108</td>\n",
       "      <td>0.7003</td>\n",
       "    </tr>\n",
       "    <tr>\n",
       "      <th>2000</th>\n",
       "      <td>0.000</td>\n",
       "      <td>0.643</td>\n",
       "      <td>0.357</td>\n",
       "      <td>0.8892</td>\n",
       "    </tr>\n",
       "  </tbody>\n",
       "</table>\n",
       "<p>2000 rows × 4 columns</p>\n",
       "</div>"
      ],
      "text/plain": [
       "        neg    neu    pos  compound\n",
       "1     0.000  0.695  0.305    0.9441\n",
       "2     0.138  0.862  0.000   -0.5664\n",
       "3     0.091  0.754  0.155    0.8265\n",
       "4     0.000  1.000  0.000    0.0000\n",
       "5     0.000  0.552  0.448    0.9468\n",
       "...     ...    ...    ...       ...\n",
       "1996  0.000  0.754  0.246    0.9744\n",
       "1997  0.025  0.744  0.231    0.9978\n",
       "1998  0.000  0.719  0.281    0.9501\n",
       "1999  0.053  0.839  0.108    0.7003\n",
       "2000  0.000  0.643  0.357    0.8892\n",
       "\n",
       "[2000 rows x 4 columns]"
      ]
     },
     "execution_count": 68,
     "metadata": {},
     "output_type": "execute_result"
    }
   ],
   "source": [
    "vaders = pd.DataFrame(res).T #.T means transpose\n",
    "vaders"
   ]
  },
  {
   "cell_type": "code",
   "execution_count": 69,
   "id": "e601dd3f",
   "metadata": {},
   "outputs": [],
   "source": [
    "vaders = vaders.reset_index().rename(columns={'index':'Id'})"
   ]
  },
  {
   "cell_type": "code",
   "execution_count": 70,
   "id": "aa76e82c",
   "metadata": {},
   "outputs": [
    {
     "data": {
      "text/html": [
       "<div>\n",
       "<style scoped>\n",
       "    .dataframe tbody tr th:only-of-type {\n",
       "        vertical-align: middle;\n",
       "    }\n",
       "\n",
       "    .dataframe tbody tr th {\n",
       "        vertical-align: top;\n",
       "    }\n",
       "\n",
       "    .dataframe thead th {\n",
       "        text-align: right;\n",
       "    }\n",
       "</style>\n",
       "<table border=\"1\" class=\"dataframe\">\n",
       "  <thead>\n",
       "    <tr style=\"text-align: right;\">\n",
       "      <th></th>\n",
       "      <th>Id</th>\n",
       "      <th>neg</th>\n",
       "      <th>neu</th>\n",
       "      <th>pos</th>\n",
       "      <th>compound</th>\n",
       "    </tr>\n",
       "  </thead>\n",
       "  <tbody>\n",
       "    <tr>\n",
       "      <th>0</th>\n",
       "      <td>1</td>\n",
       "      <td>0.000</td>\n",
       "      <td>0.695</td>\n",
       "      <td>0.305</td>\n",
       "      <td>0.9441</td>\n",
       "    </tr>\n",
       "    <tr>\n",
       "      <th>1</th>\n",
       "      <td>2</td>\n",
       "      <td>0.138</td>\n",
       "      <td>0.862</td>\n",
       "      <td>0.000</td>\n",
       "      <td>-0.5664</td>\n",
       "    </tr>\n",
       "    <tr>\n",
       "      <th>2</th>\n",
       "      <td>3</td>\n",
       "      <td>0.091</td>\n",
       "      <td>0.754</td>\n",
       "      <td>0.155</td>\n",
       "      <td>0.8265</td>\n",
       "    </tr>\n",
       "    <tr>\n",
       "      <th>3</th>\n",
       "      <td>4</td>\n",
       "      <td>0.000</td>\n",
       "      <td>1.000</td>\n",
       "      <td>0.000</td>\n",
       "      <td>0.0000</td>\n",
       "    </tr>\n",
       "    <tr>\n",
       "      <th>4</th>\n",
       "      <td>5</td>\n",
       "      <td>0.000</td>\n",
       "      <td>0.552</td>\n",
       "      <td>0.448</td>\n",
       "      <td>0.9468</td>\n",
       "    </tr>\n",
       "    <tr>\n",
       "      <th>...</th>\n",
       "      <td>...</td>\n",
       "      <td>...</td>\n",
       "      <td>...</td>\n",
       "      <td>...</td>\n",
       "      <td>...</td>\n",
       "    </tr>\n",
       "    <tr>\n",
       "      <th>1995</th>\n",
       "      <td>1996</td>\n",
       "      <td>0.000</td>\n",
       "      <td>0.754</td>\n",
       "      <td>0.246</td>\n",
       "      <td>0.9744</td>\n",
       "    </tr>\n",
       "    <tr>\n",
       "      <th>1996</th>\n",
       "      <td>1997</td>\n",
       "      <td>0.025</td>\n",
       "      <td>0.744</td>\n",
       "      <td>0.231</td>\n",
       "      <td>0.9978</td>\n",
       "    </tr>\n",
       "    <tr>\n",
       "      <th>1997</th>\n",
       "      <td>1998</td>\n",
       "      <td>0.000</td>\n",
       "      <td>0.719</td>\n",
       "      <td>0.281</td>\n",
       "      <td>0.9501</td>\n",
       "    </tr>\n",
       "    <tr>\n",
       "      <th>1998</th>\n",
       "      <td>1999</td>\n",
       "      <td>0.053</td>\n",
       "      <td>0.839</td>\n",
       "      <td>0.108</td>\n",
       "      <td>0.7003</td>\n",
       "    </tr>\n",
       "    <tr>\n",
       "      <th>1999</th>\n",
       "      <td>2000</td>\n",
       "      <td>0.000</td>\n",
       "      <td>0.643</td>\n",
       "      <td>0.357</td>\n",
       "      <td>0.8892</td>\n",
       "    </tr>\n",
       "  </tbody>\n",
       "</table>\n",
       "<p>2000 rows × 5 columns</p>\n",
       "</div>"
      ],
      "text/plain": [
       "        Id    neg    neu    pos  compound\n",
       "0        1  0.000  0.695  0.305    0.9441\n",
       "1        2  0.138  0.862  0.000   -0.5664\n",
       "2        3  0.091  0.754  0.155    0.8265\n",
       "3        4  0.000  1.000  0.000    0.0000\n",
       "4        5  0.000  0.552  0.448    0.9468\n",
       "...    ...    ...    ...    ...       ...\n",
       "1995  1996  0.000  0.754  0.246    0.9744\n",
       "1996  1997  0.025  0.744  0.231    0.9978\n",
       "1997  1998  0.000  0.719  0.281    0.9501\n",
       "1998  1999  0.053  0.839  0.108    0.7003\n",
       "1999  2000  0.000  0.643  0.357    0.8892\n",
       "\n",
       "[2000 rows x 5 columns]"
      ]
     },
     "execution_count": 70,
     "metadata": {},
     "output_type": "execute_result"
    }
   ],
   "source": [
    "vaders"
   ]
  },
  {
   "cell_type": "code",
   "execution_count": 71,
   "id": "4e4d8a4a",
   "metadata": {},
   "outputs": [],
   "source": [
    "vaders = vaders.merge(df,how='left')"
   ]
  },
  {
   "cell_type": "code",
   "execution_count": 72,
   "id": "3ba26ab7",
   "metadata": {},
   "outputs": [
    {
     "data": {
      "text/html": [
       "<div>\n",
       "<style scoped>\n",
       "    .dataframe tbody tr th:only-of-type {\n",
       "        vertical-align: middle;\n",
       "    }\n",
       "\n",
       "    .dataframe tbody tr th {\n",
       "        vertical-align: top;\n",
       "    }\n",
       "\n",
       "    .dataframe thead th {\n",
       "        text-align: right;\n",
       "    }\n",
       "</style>\n",
       "<table border=\"1\" class=\"dataframe\">\n",
       "  <thead>\n",
       "    <tr style=\"text-align: right;\">\n",
       "      <th></th>\n",
       "      <th>Id</th>\n",
       "      <th>neg</th>\n",
       "      <th>neu</th>\n",
       "      <th>pos</th>\n",
       "      <th>compound</th>\n",
       "      <th>ProductId</th>\n",
       "      <th>UserId</th>\n",
       "      <th>ProfileName</th>\n",
       "      <th>HelpfulnessNumerator</th>\n",
       "      <th>HelpfulnessDenominator</th>\n",
       "      <th>Score</th>\n",
       "      <th>Time</th>\n",
       "      <th>Summary</th>\n",
       "      <th>Text</th>\n",
       "    </tr>\n",
       "  </thead>\n",
       "  <tbody>\n",
       "    <tr>\n",
       "      <th>0</th>\n",
       "      <td>1</td>\n",
       "      <td>0.000</td>\n",
       "      <td>0.695</td>\n",
       "      <td>0.305</td>\n",
       "      <td>0.9441</td>\n",
       "      <td>B001E4KFG0</td>\n",
       "      <td>A3SGXH7AUHU8GW</td>\n",
       "      <td>delmartian</td>\n",
       "      <td>1</td>\n",
       "      <td>1</td>\n",
       "      <td>5</td>\n",
       "      <td>1303862400</td>\n",
       "      <td>Good Quality Dog Food</td>\n",
       "      <td>I have bought several of the Vitality canned d...</td>\n",
       "    </tr>\n",
       "    <tr>\n",
       "      <th>1</th>\n",
       "      <td>2</td>\n",
       "      <td>0.138</td>\n",
       "      <td>0.862</td>\n",
       "      <td>0.000</td>\n",
       "      <td>-0.5664</td>\n",
       "      <td>B00813GRG4</td>\n",
       "      <td>A1D87F6ZCVE5NK</td>\n",
       "      <td>dll pa</td>\n",
       "      <td>0</td>\n",
       "      <td>0</td>\n",
       "      <td>1</td>\n",
       "      <td>1346976000</td>\n",
       "      <td>Not as Advertised</td>\n",
       "      <td>Product arrived labeled as Jumbo Salted Peanut...</td>\n",
       "    </tr>\n",
       "    <tr>\n",
       "      <th>2</th>\n",
       "      <td>3</td>\n",
       "      <td>0.091</td>\n",
       "      <td>0.754</td>\n",
       "      <td>0.155</td>\n",
       "      <td>0.8265</td>\n",
       "      <td>B000LQOCH0</td>\n",
       "      <td>ABXLMWJIXXAIN</td>\n",
       "      <td>Natalia Corres \"Natalia Corres\"</td>\n",
       "      <td>1</td>\n",
       "      <td>1</td>\n",
       "      <td>4</td>\n",
       "      <td>1219017600</td>\n",
       "      <td>\"Delight\" says it all</td>\n",
       "      <td>This is a confection that has been around a fe...</td>\n",
       "    </tr>\n",
       "    <tr>\n",
       "      <th>3</th>\n",
       "      <td>4</td>\n",
       "      <td>0.000</td>\n",
       "      <td>1.000</td>\n",
       "      <td>0.000</td>\n",
       "      <td>0.0000</td>\n",
       "      <td>B000UA0QIQ</td>\n",
       "      <td>A395BORC6FGVXV</td>\n",
       "      <td>Karl</td>\n",
       "      <td>3</td>\n",
       "      <td>3</td>\n",
       "      <td>2</td>\n",
       "      <td>1307923200</td>\n",
       "      <td>Cough Medicine</td>\n",
       "      <td>If you are looking for the secret ingredient i...</td>\n",
       "    </tr>\n",
       "    <tr>\n",
       "      <th>4</th>\n",
       "      <td>5</td>\n",
       "      <td>0.000</td>\n",
       "      <td>0.552</td>\n",
       "      <td>0.448</td>\n",
       "      <td>0.9468</td>\n",
       "      <td>B006K2ZZ7K</td>\n",
       "      <td>A1UQRSCLF8GW1T</td>\n",
       "      <td>Michael D. Bigham \"M. Wassir\"</td>\n",
       "      <td>0</td>\n",
       "      <td>0</td>\n",
       "      <td>5</td>\n",
       "      <td>1350777600</td>\n",
       "      <td>Great taffy</td>\n",
       "      <td>Great taffy at a great price.  There was a wid...</td>\n",
       "    </tr>\n",
       "    <tr>\n",
       "      <th>...</th>\n",
       "      <td>...</td>\n",
       "      <td>...</td>\n",
       "      <td>...</td>\n",
       "      <td>...</td>\n",
       "      <td>...</td>\n",
       "      <td>...</td>\n",
       "      <td>...</td>\n",
       "      <td>...</td>\n",
       "      <td>...</td>\n",
       "      <td>...</td>\n",
       "      <td>...</td>\n",
       "      <td>...</td>\n",
       "      <td>...</td>\n",
       "      <td>...</td>\n",
       "    </tr>\n",
       "    <tr>\n",
       "      <th>1995</th>\n",
       "      <td>1996</td>\n",
       "      <td>0.000</td>\n",
       "      <td>0.754</td>\n",
       "      <td>0.246</td>\n",
       "      <td>0.9744</td>\n",
       "      <td>B001E5E29A</td>\n",
       "      <td>A3IJNH61DY5N9K</td>\n",
       "      <td>Sharon Allan</td>\n",
       "      <td>10</td>\n",
       "      <td>11</td>\n",
       "      <td>5</td>\n",
       "      <td>1265846400</td>\n",
       "      <td>Great Waffles for us non-cooks</td>\n",
       "      <td>I have to laugh at the reviews that said it wa...</td>\n",
       "    </tr>\n",
       "    <tr>\n",
       "      <th>1996</th>\n",
       "      <td>1997</td>\n",
       "      <td>0.025</td>\n",
       "      <td>0.744</td>\n",
       "      <td>0.231</td>\n",
       "      <td>0.9978</td>\n",
       "      <td>B001E5E29A</td>\n",
       "      <td>A35W3JQYP0M655</td>\n",
       "      <td>Ambergris \"John Thomas\"</td>\n",
       "      <td>7</td>\n",
       "      <td>7</td>\n",
       "      <td>5</td>\n",
       "      <td>1279929600</td>\n",
       "      <td>Excellent Fluffy Pancakes.....</td>\n",
       "      <td>I had read some favorable reviews of this panc...</td>\n",
       "    </tr>\n",
       "    <tr>\n",
       "      <th>1997</th>\n",
       "      <td>1998</td>\n",
       "      <td>0.000</td>\n",
       "      <td>0.719</td>\n",
       "      <td>0.281</td>\n",
       "      <td>0.9501</td>\n",
       "      <td>B001E5E29A</td>\n",
       "      <td>A3CLWZGMC7M9Z1</td>\n",
       "      <td>Hippie2MARS \"Hippie2MARS\"</td>\n",
       "      <td>6</td>\n",
       "      <td>6</td>\n",
       "      <td>4</td>\n",
       "      <td>1250640000</td>\n",
       "      <td>Good Basic Mix</td>\n",
       "      <td>I was expecting great things based on the revi...</td>\n",
       "    </tr>\n",
       "    <tr>\n",
       "      <th>1998</th>\n",
       "      <td>1999</td>\n",
       "      <td>0.053</td>\n",
       "      <td>0.839</td>\n",
       "      <td>0.108</td>\n",
       "      <td>0.7003</td>\n",
       "      <td>B001E5E29A</td>\n",
       "      <td>A2V6P1FKRHCVQQ</td>\n",
       "      <td>S. Jackson</td>\n",
       "      <td>8</td>\n",
       "      <td>9</td>\n",
       "      <td>4</td>\n",
       "      <td>1265760000</td>\n",
       "      <td>Good pancakes, lots of work</td>\n",
       "      <td>I love this pancake mix.  I bought my first ca...</td>\n",
       "    </tr>\n",
       "    <tr>\n",
       "      <th>1999</th>\n",
       "      <td>2000</td>\n",
       "      <td>0.000</td>\n",
       "      <td>0.643</td>\n",
       "      <td>0.357</td>\n",
       "      <td>0.8892</td>\n",
       "      <td>B001E5E29A</td>\n",
       "      <td>AZ9N3928BGQ0E</td>\n",
       "      <td>J. Nachison \"long-time SF and history lover\"</td>\n",
       "      <td>7</td>\n",
       "      <td>8</td>\n",
       "      <td>5</td>\n",
       "      <td>1206835200</td>\n",
       "      <td>waffles, schmaffles !!</td>\n",
       "      <td>What can i say??  They are wonderful, and the ...</td>\n",
       "    </tr>\n",
       "  </tbody>\n",
       "</table>\n",
       "<p>2000 rows × 14 columns</p>\n",
       "</div>"
      ],
      "text/plain": [
       "        Id    neg    neu    pos  compound   ProductId          UserId  \\\n",
       "0        1  0.000  0.695  0.305    0.9441  B001E4KFG0  A3SGXH7AUHU8GW   \n",
       "1        2  0.138  0.862  0.000   -0.5664  B00813GRG4  A1D87F6ZCVE5NK   \n",
       "2        3  0.091  0.754  0.155    0.8265  B000LQOCH0   ABXLMWJIXXAIN   \n",
       "3        4  0.000  1.000  0.000    0.0000  B000UA0QIQ  A395BORC6FGVXV   \n",
       "4        5  0.000  0.552  0.448    0.9468  B006K2ZZ7K  A1UQRSCLF8GW1T   \n",
       "...    ...    ...    ...    ...       ...         ...             ...   \n",
       "1995  1996  0.000  0.754  0.246    0.9744  B001E5E29A  A3IJNH61DY5N9K   \n",
       "1996  1997  0.025  0.744  0.231    0.9978  B001E5E29A  A35W3JQYP0M655   \n",
       "1997  1998  0.000  0.719  0.281    0.9501  B001E5E29A  A3CLWZGMC7M9Z1   \n",
       "1998  1999  0.053  0.839  0.108    0.7003  B001E5E29A  A2V6P1FKRHCVQQ   \n",
       "1999  2000  0.000  0.643  0.357    0.8892  B001E5E29A   AZ9N3928BGQ0E   \n",
       "\n",
       "                                       ProfileName  HelpfulnessNumerator  \\\n",
       "0                                       delmartian                     1   \n",
       "1                                           dll pa                     0   \n",
       "2                  Natalia Corres \"Natalia Corres\"                     1   \n",
       "3                                             Karl                     3   \n",
       "4                    Michael D. Bigham \"M. Wassir\"                     0   \n",
       "...                                            ...                   ...   \n",
       "1995                                  Sharon Allan                    10   \n",
       "1996                       Ambergris \"John Thomas\"                     7   \n",
       "1997                     Hippie2MARS \"Hippie2MARS\"                     6   \n",
       "1998                                    S. Jackson                     8   \n",
       "1999  J. Nachison \"long-time SF and history lover\"                     7   \n",
       "\n",
       "      HelpfulnessDenominator  Score        Time  \\\n",
       "0                          1      5  1303862400   \n",
       "1                          0      1  1346976000   \n",
       "2                          1      4  1219017600   \n",
       "3                          3      2  1307923200   \n",
       "4                          0      5  1350777600   \n",
       "...                      ...    ...         ...   \n",
       "1995                      11      5  1265846400   \n",
       "1996                       7      5  1279929600   \n",
       "1997                       6      4  1250640000   \n",
       "1998                       9      4  1265760000   \n",
       "1999                       8      5  1206835200   \n",
       "\n",
       "                             Summary  \\\n",
       "0              Good Quality Dog Food   \n",
       "1                  Not as Advertised   \n",
       "2              \"Delight\" says it all   \n",
       "3                     Cough Medicine   \n",
       "4                        Great taffy   \n",
       "...                              ...   \n",
       "1995  Great Waffles for us non-cooks   \n",
       "1996  Excellent Fluffy Pancakes.....   \n",
       "1997                  Good Basic Mix   \n",
       "1998     Good pancakes, lots of work   \n",
       "1999          waffles, schmaffles !!   \n",
       "\n",
       "                                                   Text  \n",
       "0     I have bought several of the Vitality canned d...  \n",
       "1     Product arrived labeled as Jumbo Salted Peanut...  \n",
       "2     This is a confection that has been around a fe...  \n",
       "3     If you are looking for the secret ingredient i...  \n",
       "4     Great taffy at a great price.  There was a wid...  \n",
       "...                                                 ...  \n",
       "1995  I have to laugh at the reviews that said it wa...  \n",
       "1996  I had read some favorable reviews of this panc...  \n",
       "1997  I was expecting great things based on the revi...  \n",
       "1998  I love this pancake mix.  I bought my first ca...  \n",
       "1999  What can i say??  They are wonderful, and the ...  \n",
       "\n",
       "[2000 rows x 14 columns]"
      ]
     },
     "execution_count": 72,
     "metadata": {},
     "output_type": "execute_result"
    }
   ],
   "source": [
    "vaders"
   ]
  },
  {
   "cell_type": "markdown",
   "id": "a4a8fe03",
   "metadata": {},
   "source": [
    "Lets use Ratings from reviews and compare the performance of Vader model"
   ]
  },
  {
   "cell_type": "code",
   "execution_count": 73,
   "id": "6547fede",
   "metadata": {},
   "outputs": [
    {
     "data": {
      "image/png": "[encoded data removed]",
      "text/plain": [
       "<Figure size 640x480 with 1 Axes>"
      ]
     },
     "metadata": {},
     "output_type": "display_data"
    }
   ],
   "source": [
    "ax = sns.barplot(data=vaders,x='Score',y='compound')\n"
   ]
  },
  {
   "cell_type": "code",
   "execution_count": null,
   "id": "11619eef",
   "metadata": {},
   "outputs": [],
   "source": []
  }
 ],
 "metadata": {
  "kernelspec": {
   "display_name": "Python 3 (ipykernel)",
   "language": "python",
   "name": "python3"
  },
  "language_info": {
   "codemirror_mode": {
    "name": "ipython",
    "version": 3
   },
   "file_extension": ".py",
   "mimetype": "text/x-python",
   "name": "python",
   "nbconvert_exporter": "python",
   "pygments_lexer": "ipython3",
   "version": "3.9.6"
  }
 },
 "nbformat": 4,
 "nbformat_minor": 5
}
